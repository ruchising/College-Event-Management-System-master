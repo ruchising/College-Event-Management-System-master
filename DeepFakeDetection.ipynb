{
  "nbformat": 4,
  "nbformat_minor": 0,
  "metadata": {
    "colab": {
      "provenance": [],
      "mount_file_id": "1WnxjtFfiFcRjNFNn08MlpbU0_aRlKWjb",
      "authorship_tag": "ABX9TyM1KbYJ/Iroof0hIwmIfSaY",
      "include_colab_link": true
    },
    "kernelspec": {
      "name": "python3",
      "display_name": "Python 3"
    },
    "language_info": {
      "name": "python"
    }
  },
  "cells": [
    {
      "cell_type": "markdown",
      "metadata": {
        "id": "view-in-github",
        "colab_type": "text"
      },
      "source": [
        "<a href=\"https://colab.research.google.com/github/ruchising/College-Event-Management-System-master/blob/main/DeepFakeDetection.ipynb\" target=\"_parent\"><img src=\"https://colab.research.google.com/assets/colab-badge.svg\" alt=\"Open In Colab\"/></a>"
      ]
    },
    {
      "cell_type": "code",
      "source": [
        "from google.colab import drive\n",
        "drive.mount('/content/drive')"
      ],
      "metadata": {
        "colab": {
          "base_uri": "https://localhost:8080/"
        },
        "id": "CJD2Bw88cOyt",
        "outputId": "7f8fee70-d012-48be-9f01-4daa39ab121c"
      },
      "execution_count": 16,
      "outputs": [
        {
          "output_type": "stream",
          "name": "stdout",
          "text": [
            "Drive already mounted at /content/drive; to attempt to forcibly remount, call drive.mount(\"/content/drive\", force_remount=True).\n"
          ]
        }
      ]
    },
    {
      "cell_type": "code",
      "source": [
        "base_data_path = '/content/drive/MyDrive/DeepFakeData/dataset' # Adjust this path\n",
        "\n",
        "original_sequences_path = f'{base_data_path}/DFD_original sequences'\n",
        "manipulated_sequences_path = f'{base_data_path}/DFD_manipulated_sequences'\n"
      ],
      "metadata": {
        "id": "-QVfAtxact6o"
      },
      "execution_count": 17,
      "outputs": []
    },
    {
      "cell_type": "code",
      "source": [
        "import os\n",
        "\n",
        "print(\"Counting files...\")\n",
        "\n",
        "def count_video_files_recursively(directory_path):\n",
        "    \"\"\"Counts video files (mp4, avi, mov, webm) recursively in a directory.\"\"\"\n",
        "    count = 0\n",
        "    video_files_list = []\n",
        "    for root, _, files in os.walk(directory_path):\n",
        "        for file in files:\n",
        "            if file.lower().endswith(('.mp4', '.avi', '.mov', '.webm')):\n",
        "                count += 1\n",
        "                video_files_list.append(os.path.join(root, file))\n",
        "    return count, video_files_list\n",
        "\n",
        "try:\n",
        "    total_original_videos_count, original_videos = count_video_files_recursively(original_sequences_path)\n",
        "    total_manipulated_videos_count, manipulated_videos = count_video_files_recursively(manipulated_sequences_path)\n",
        "\n",
        "    print(f\"Total original video files found: {total_original_videos_count}\")\n",
        "    print(f\"Total manipulated video files found: {total_manipulated_videos_count}\")\n",
        "\n",
        "except FileNotFoundError:\n",
        "    print(f\"Error: Make sure the paths are correct. '{base_data_path}' or its subfolders not found.\")\n",
        "    print(\"Please check the exact path to your 'DeepFakeData/dataset' folder in Google Drive.\")\n",
        "    # Exit or handle the error appropriately if paths are wrong\n",
        "    exit() # Exiting for demonstration, you might want a more graceful error handling"
      ],
      "metadata": {
        "colab": {
          "base_uri": "https://localhost:8080/"
        },
        "id": "ug2amJUndgOl",
        "outputId": "a0390673-b513-4476-9ac9-373a7e188fbb"
      },
      "execution_count": 18,
      "outputs": [
        {
          "output_type": "stream",
          "name": "stdout",
          "text": [
            "Counting files...\n",
            "Total original video files found: 363\n",
            "Total manipulated video files found: 312\n"
          ]
        }
      ]
    }
  ]
}